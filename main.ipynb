{
 "cells": [
  {
   "cell_type": "markdown",
   "id": "4a55047a",
   "metadata": {},
   "source": [
    "    DATA_ROOT: str = \"C:\\\\Users\\\\muhid\\\\Downloads\\\\UTN-CV25-Captcha-Dataset\"\n"
   ]
  },
  {
   "cell_type": "code",
   "execution_count": 4,
   "id": "d565b78d",
   "metadata": {},
   "outputs": [
    {
     "name": "stderr",
     "output_type": "stream",
     "text": [
      "c:\\Users\\muhid\\AppData\\Local\\Programs\\Python\\Python310\\lib\\site-packages\\tqdm\\auto.py:22: TqdmWarning: IProgress not found. Please update jupyter and ipywidgets. See https://ipywidgets.readthedocs.io/en/stable/user_install.html\n",
      "  from .autonotebook import tqdm as notebook_tqdm\n"
     ]
    }
   ],
   "source": [
    "import json, os, torch, torchvision as tv\n",
    "from PIL import Image\n",
    "\n",
    "with open('C:\\\\Users\\\\muhid\\\\Downloads\\\\UTN-CV25-Captcha-Dataset\\\\part2\\\\train\\\\labels.json') as f:\n",
    "    ann = json.load(f)\n",
    "\n",
    "charset = sorted({c for e in ann for c in e['captcha_string']})\n",
    "BLANK = 0\n",
    "char2idx = {c:i+1 for i,c in enumerate(charset)}  # 0 reserved for CTC blank\n",
    "idx2char = {i+1:c for i,c in enumerate(charset)}\n",
    "\n",
    "def text_to_targets(s): return torch.tensor([char2idx[c] for c in s], dtype=torch.long)"
   ]
  },
  {
   "cell_type": "code",
   "execution_count": 5,
   "id": "dfae0eab",
   "metadata": {},
   "outputs": [],
   "source": [
    "import numpy as np\n",
    "from torchvision.transforms.functional import to_tensor\n",
    "\n",
    "from PIL import Image\n",
    "try:\n",
    "    RESAMP_BILINEAR = Image.Resampling.BILINEAR  # Pillow >= 10\n",
    "except AttributeError:\n",
    "    RESAMP_BILINEAR = Image.BILINEAR             # Pillow < 10\n",
    "\n",
    "MODEL_H = 32\n",
    "def preprocess(png_path):\n",
    "    img = Image.open(png_path).convert('L')\n",
    "    w,h = img.size\n",
    "    new_w = int(w * (MODEL_H / h))\n",
    "    img = img.resize((new_w, MODEL_H), RESAMP_BILINEAR)\n",
    "    return to_tensor(img)  # (1,H,W) in [0,1]\n"
   ]
  },
  {
   "cell_type": "code",
   "execution_count": 6,
   "id": "bccad764",
   "metadata": {},
   "outputs": [],
   "source": [
    "class Captcha2(torch.utils.data.Dataset):\n",
    "    def __init__(self, root):\n",
    "        self.root = root\n",
    "        with open(os.path.join(root,'labels.json')) as f: self.meta = json.load(f)\n",
    "    def __len__(self): return len(self.meta)\n",
    "    def __getitem__(self, i):\n",
    "        e = self.meta[i]\n",
    "        img_path = os.path.join(self.root, 'images', f\"{e['image_id']}.png\")\n",
    "        x = preprocess(img_path)\n",
    "        y = text_to_targets(e['captcha_string'])\n",
    "        return x, y\n",
    "\n",
    "def collate(batch, stride=4):\n",
    "    xs, ys = zip(*batch)\n",
    "    H = xs[0].shape[1]\n",
    "    widths = [x.shape[2] for x in xs]             # original widths before padding\n",
    "    maxW = max(widths)\n",
    "\n",
    "    padded = []\n",
    "    input_lengths = []\n",
    "    for x, ow in zip(xs, widths):\n",
    "        padW = maxW - ow\n",
    "        if padW:\n",
    "            x = torch.nn.functional.pad(x, (0, padW, 0, 0))  # pad right\n",
    "        padded.append(x)\n",
    "        input_lengths.append(ow // stride)  # valid time steps for this sample\n",
    "\n",
    "    targets = torch.cat(ys)                                # 1D concat\n",
    "    target_lengths = torch.tensor([len(y) for y in ys])    # per-sample\n",
    "    return torch.stack(padded), targets, torch.tensor(input_lengths), target_lengths\n"
   ]
  },
  {
   "cell_type": "code",
   "execution_count": 7,
   "id": "7d837b6c",
   "metadata": {},
   "outputs": [],
   "source": [
    "import torch.nn as nn\n",
    "class CRNN(nn.Module):\n",
    "    def __init__(self, num_classes):\n",
    "        super().__init__()\n",
    "        self.cnn = nn.Sequential(\n",
    "            nn.Conv2d(1,64,3,1,1), nn.ReLU(), nn.MaxPool2d((2,2)),  # H/2, W/2\n",
    "            nn.Conv2d(64,128,3,1,1), nn.ReLU(), nn.MaxPool2d((2,2)), # H/4, W/4\n",
    "            nn.Conv2d(128,256,3,1,1), nn.ReLU()\n",
    "        )\n",
    "        self.proj_h = nn.AdaptiveAvgPool2d((1, None))  # collapse height\n",
    "        self.rnn = nn.LSTM(input_size=256, hidden_size=256, num_layers=2,\n",
    "                           bidirectional=True, batch_first=False)\n",
    "        self.fc = nn.Linear(512, num_classes)\n",
    "        self.log_sm = nn.LogSoftmax(dim=-1)\n",
    "\n",
    "    def forward(self, x):              # x: (B,1,H,W)\n",
    "        f = self.cnn(x)                # (B,256,H',W')\n",
    "        f = self.proj_h(f)             # (B,256,1,W')\n",
    "        f = f.squeeze(2).permute(2,0,1) # (T=W', B, 256)\n",
    "        f,_ = self.rnn(f)              # (T,B,512)\n",
    "        logits = self.fc(f)            # (T,B,C)\n",
    "        return self.log_sm(logits)\n"
   ]
  },
  {
   "cell_type": "code",
   "execution_count": 8,
   "id": "33497467",
   "metadata": {},
   "outputs": [],
   "source": [
    "def decode_greedy(logp):  # (T,B,C)\n",
    "    seqs = []\n",
    "    path = logp.argmax(-1)  # (T,B)\n",
    "    T,B = path.shape\n",
    "    for b in range(B):\n",
    "        prev = BLANK; chars = []\n",
    "        for t in range(T):\n",
    "            p = int(path[t,b])\n",
    "            if p != BLANK and p != prev:\n",
    "                chars.append(idx2char[p])\n",
    "            prev = p\n",
    "        seqs.append(''.join(chars))\n",
    "    return seqs"
   ]
  },
  {
   "cell_type": "code",
   "execution_count": null,
   "id": "953c99e7",
   "metadata": {},
   "outputs": [
    {
     "name": "stderr",
     "output_type": "stream",
     "text": [
      "                                                                            \r"
     ]
    },
    {
     "name": "stdout",
     "output_type": "stream",
     "text": [
      "Epoch 1/10 - train_loss: 3.9301  val_seq_acc: 0.0008\n"
     ]
    },
    {
     "name": "stderr",
     "output_type": "stream",
     "text": [
      "                                                                            \r"
     ]
    },
    {
     "name": "stdout",
     "output_type": "stream",
     "text": [
      "Epoch 2/10 - train_loss: 3.5945  val_seq_acc: 0.0015\n"
     ]
    },
    {
     "name": "stderr",
     "output_type": "stream",
     "text": [
      "                                                                            \r"
     ]
    },
    {
     "name": "stdout",
     "output_type": "stream",
     "text": [
      "Epoch 3/10 - train_loss: 3.0796  val_seq_acc: 0.0040\n"
     ]
    },
    {
     "name": "stderr",
     "output_type": "stream",
     "text": [
      "                                                                            \r"
     ]
    },
    {
     "name": "stdout",
     "output_type": "stream",
     "text": [
      "Epoch 4/10 - train_loss: 2.3444  val_seq_acc: 0.0421\n"
     ]
    },
    {
     "name": "stderr",
     "output_type": "stream",
     "text": [
      "                                                                            \r"
     ]
    },
    {
     "name": "stdout",
     "output_type": "stream",
     "text": [
      "Epoch 5/10 - train_loss: 1.5440  val_seq_acc: 0.1043\n"
     ]
    },
    {
     "name": "stderr",
     "output_type": "stream",
     "text": [
      "                                                                            \r"
     ]
    },
    {
     "name": "stdout",
     "output_type": "stream",
     "text": [
      "Epoch 6/10 - train_loss: 1.0116  val_seq_acc: 0.1988\n"
     ]
    },
    {
     "name": "stderr",
     "output_type": "stream",
     "text": [
      "                                                                            \r"
     ]
    },
    {
     "name": "stdout",
     "output_type": "stream",
     "text": [
      "Epoch 7/10 - train_loss: 0.7037  val_seq_acc: 0.2644\n"
     ]
    },
    {
     "name": "stderr",
     "output_type": "stream",
     "text": [
      "                                                                            \r"
     ]
    },
    {
     "name": "stdout",
     "output_type": "stream",
     "text": [
      "Epoch 8/10 - train_loss: 0.5339  val_seq_acc: 0.2976\n"
     ]
    },
    {
     "name": "stderr",
     "output_type": "stream",
     "text": [
      "                                                                            \r"
     ]
    },
    {
     "name": "stdout",
     "output_type": "stream",
     "text": [
      "Epoch 9/10 - train_loss: 0.4257  val_seq_acc: 0.3229\n"
     ]
    },
    {
     "name": "stderr",
     "output_type": "stream",
     "text": [
      "                                                                             \r"
     ]
    },
    {
     "name": "stdout",
     "output_type": "stream",
     "text": [
      "Epoch 10/10 - train_loss: 0.3494  val_seq_acc: 0.3571\n",
      "Model saved to crnn_captcha.pth\n"
     ]
    }
   ],
   "source": [
    "# # --- Imports & progress bar ---\n",
    "from tqdm.auto import tqdm  # auto-chooses notebook/terminal-friendly tqdm\n",
    "import torch\n",
    "from torch.utils.data import Subset, DataLoader\n",
    "import numpy as np\n",
    "\n",
    "train_root = r'C:\\\\Users\\\\muhid\\\\Downloads\\\\UTN-CV25-Captcha-Dataset\\\\part2\\\\train'\n",
    "val_root   = r'C:\\\\Users\\\\muhid\\\\Downloads\\\\UTN-CV25-Captcha-Dataset\\\\part2\\\\val'\n",
    "\n",
    "train_ds_full = Captcha2(train_root)\n",
    "val_ds_full   = Captcha2(val_root)\n",
    "\n",
    "FRACTION = 0.5   # <- set 0.25 for quarter dataset, etc.\n",
    "rng = np.random.default_rng(seed=42)\n",
    "train_idx = rng.choice(len(train_ds_full), size=max(1, int(len(train_ds_full)*FRACTION)), replace=False)\n",
    "val_idx   = rng.choice(len(val_ds_full),   size=max(1, int(len(val_ds_full)*FRACTION)),   replace=False)\n",
    "\n",
    "train_ds = Subset(train_ds_full, train_idx)\n",
    "val_ds   = Subset(val_ds_full,   val_idx)\n",
    "\n",
    "BATCH_SIZE = 16  # smaller batch to reduce memory and speed up iteration starts\n",
    "\n",
    "# # --- Device & model setup ---\n",
    "num_epochs = 10\n",
    "device = 'cuda' if torch.cuda.is_available() else 'cpu'\n",
    "\n",
    "model = CRNN(num_classes=1+len(charset)).to(device)\n",
    "crit = nn.CTCLoss(blank=BLANK, zero_infinity=True)\n",
    "opt = torch.optim.Adam(model.parameters(), lr=1e-3)\n",
    "\n",
    "train_loader = DataLoader(\n",
    "    train_ds, batch_size=BATCH_SIZE, shuffle=True, collate_fn=collate,\n",
    "    num_workers=0, persistent_workers=False, pin_memory=(device=='cuda')\n",
    ")\n",
    "val_loader = DataLoader(\n",
    "    val_ds, batch_size=BATCH_SIZE, shuffle=False, collate_fn=collate,\n",
    "    num_workers=0, persistent_workers=False, pin_memory=(device=='cuda')\n",
    ")\n",
    "\n",
    "def evaluate_seq_acc(model, loader):\n",
    "    model.eval()\n",
    "    n, correct = 0, 0\n",
    "    with torch.no_grad():\n",
    "        for X, targets, in_lens, tar_lens in loader:\n",
    "            X = X.to(device, non_blocking=True)\n",
    "            logp = model(X)                       # (T,B,C)\n",
    "            preds = decode_greedy(logp)           # list[str] length B\n",
    "\n",
    "            # unpack flat targets back to strings\n",
    "            offs = 0\n",
    "            gts = []\n",
    "            for L in tar_lens.tolist():\n",
    "                seq = targets[offs:offs+L].tolist()\n",
    "                gts.append(''.join(idx2char[i] for i in seq))\n",
    "                offs += L\n",
    "\n",
    "            for p, g in zip(preds, gts):\n",
    "                correct += int(p == g)\n",
    "                n += 1\n",
    "    return correct / max(n, 1)\n",
    "\n",
    "# --- Training loop with reliable progress bars ---\n",
    "for epoch in range(num_epochs):\n",
    "    model.train()\n",
    "    total_loss, steps = 0.0, 0\n",
    "\n",
    "    # tqdm needs a known total if __len__ might be 0 due to a path issue\n",
    "    pbar = tqdm(train_loader, total=len(train_loader),\n",
    "                desc=f\"Epoch {epoch+1}/{num_epochs}\", leave=False)\n",
    "\n",
    "    for X, targets, in_lens, tar_lens in pbar:\n",
    "        X = X.to(device, non_blocking=True)\n",
    "        targets = targets.to(device, non_blocking=True)\n",
    "        in_lens = in_lens.to(device, non_blocking=True)\n",
    "        tar_lens = tar_lens.to(device, non_blocking=True)\n",
    "\n",
    "        logp = model(X)                                      # (T,B,C)\n",
    "        loss = crit(logp, targets, in_lens, tar_lens)\n",
    "\n",
    "        opt.zero_grad(set_to_none=True)\n",
    "        loss.backward()\n",
    "        nn.utils.clip_grad_norm_(model.parameters(), 5.0)\n",
    "        opt.step()\n",
    "\n",
    "        total_loss += float(loss)\n",
    "        steps += 1\n",
    "        pbar.set_postfix(loss=f\"{loss.item():.4f}\")\n",
    "\n",
    "    # Validation after each epoch\n",
    "    val_acc = evaluate_seq_acc(model, val_loader)\n",
    "    print(f\"Epoch {epoch+1}/{num_epochs} - \"\n",
    "          f\"train_loss: {total_loss/max(steps,1):.4f}  val_seq_acc: {val_acc:.4f}\")\n",
    "\n",
    "# --- Save model after training ---\n",
    "torch.save(model.state_dict(), \"crnn_captcha.pth\")\n",
    "print(\"Model saved to crnn_captcha.pth\")\n"
   ]
  },
  {
   "cell_type": "code",
   "execution_count": 10,
   "id": "5ae1110b",
   "metadata": {},
   "outputs": [],
   "source": [
    "# Recreate the model with the same architecture & charset\n",
    "# model = CRNN(num_classes=1+len(charset)).to(device)\n",
    "# model.load_state_dict(torch.load(\"crnn_captcha.pth\", map_location=device))\n",
    "# model.eval()  # set to evaluation mode"
   ]
  },
  {
   "cell_type": "code",
   "execution_count": 11,
   "id": "c44dc524",
   "metadata": {},
   "outputs": [],
   "source": [
    "import os, json, glob\n",
    "from PIL import Image\n",
    "\n",
    "def predict_image_string(img_path):\n",
    "    # Preprocess (uses earlier preprocess())\n",
    "    x = preprocess(img_path).unsqueeze(0).to(device)   # (1,1,H,W)\n",
    "    with torch.no_grad():\n",
    "        logp = model(x)                                # (T,1,C)\n",
    "    pred = decode_greedy(logp)[0]                      # str\n",
    "    return pred\n",
    "\n",
    "def make_part2_predictions_json(test_root, out_json_path):\n",
    "    \"\"\"\n",
    "    test_root: '/path/to/part2/test' (must contain 'images' subfolder)\n",
    "    Writes predictions JSON with required keys per image.\n",
    "    \"\"\"\n",
    "    img_dir = os.path.join(test_root, 'images')\n",
    "    img_paths = sorted(glob.glob(os.path.join(img_dir, '*.png')))\n",
    "\n",
    "    results = []\n",
    "    for p in img_paths:\n",
    "        fname = os.path.basename(p)\n",
    "        image_id = os.path.splitext(fname)[0]\n",
    "\n",
    "        # read size from original image\n",
    "        with Image.open(p) as im:\n",
    "            w, h = im.size\n",
    "\n",
    "        pred_str = predict_image_string(p)\n",
    "\n",
    "        results.append({\n",
    "            \"height\": int(h),\n",
    "            \"width\": int(w),\n",
    "            \"image_id\": image_id,\n",
    "            \"captcha_string\": pred_str,\n",
    "            \"annotations\": []          # CRNN text-only; leave empty\n",
    "        })\n",
    "\n",
    "    with open(out_json_path, 'w') as f:\n",
    "        json.dump(results, f, indent=2)\n"
   ]
  },
  {
   "cell_type": "code",
   "execution_count": 12,
   "id": "1a0b45f7",
   "metadata": {},
   "outputs": [],
   "source": [
    "# Example usage:\n",
    "make_part2_predictions_json('C:\\\\Users\\\\muhid\\\\Downloads\\\\UTN-CV25-Captcha-Dataset\\\\part2\\\\test', 'C:\\\\Users\\\\muhid\\\\OneDrive\\\\Desktop\\\\Work\\\\Temp git work\\\\Captcha-Cracker\\\\predictions_part2.json')"
   ]
  },
  {
   "cell_type": "code",
   "execution_count": null,
   "id": "8d8ed8cf",
   "metadata": {},
   "outputs": [],
   "source": []
  }
 ],
 "metadata": {
  "kernelspec": {
   "display_name": "Python 3",
   "language": "python",
   "name": "python3"
  },
  "language_info": {
   "codemirror_mode": {
    "name": "ipython",
    "version": 3
   },
   "file_extension": ".py",
   "mimetype": "text/x-python",
   "name": "python",
   "nbconvert_exporter": "python",
   "pygments_lexer": "ipython3",
   "version": "3.10.4"
  }
 },
 "nbformat": 4,
 "nbformat_minor": 5
}
