{
 "cells": [
  {
   "cell_type": "markdown",
   "id": "c5741409",
   "metadata": {},
   "source": [
    "# CAPTCHA Cracking Experiment Setup (for Google Colab)\n",
    "\n",
    "This notebook is designed to run CAPTCHA recognition experiments in Google Colab.  \n",
    "It supports manual uploads of the dataset and project files (as zip archives),  \n",
    "and automatically extracts and prepares everything for training and evaluation.\n",
    "\n",
    "## Steps:\n",
    "1. Upload your `part2.zip` dataset (must contain `train/`, `val/`, and `test/` folders).\n",
    "2. Upload your zipped `captcha-cracker` project folder (including all code and configs).\n",
    "3. The script will extract and prepare the files.\n",
    "4. It then navigates into the project directory and is ready to run your training.\n",
    "\n",
    "Or you can clone our GitHub repository instead of uploading your zipped `captcha-cracker` project folder\n",
    "\n",
    "Make sure:\n",
    "- Each ZIP file is uploaded **one at a time**.\n",
    "- Your project folder contains `main.py`, `configs/`, `trainer/`, and other required modules.\n",
    "\n"
   ]
  },
  {
   "cell_type": "code",
   "execution_count": null,
   "id": "43668c80",
   "metadata": {},
   "outputs": [],
   "source": [
    "import os\n",
    "import zipfile\n",
    "import shutil\n",
    "from google.colab import files"
   ]
  },
  {
   "cell_type": "markdown",
   "id": "b46b3681",
   "metadata": {},
   "source": [
    "### Upload data/part2.zip "
   ]
  },
  {
   "cell_type": "code",
   "execution_count": null,
   "id": "8cf882af",
   "metadata": {},
   "outputs": [],
   "source": [
    "# Extract the uploaded zip\n",
    "zip_path = \"part2.zip\"  # uploaded filename\n",
    "extract_dir = \"data\"\n",
    "os.makedirs(extract_dir, exist_ok=True)\n",
    "\n",
    "with zipfile.ZipFile(zip_path, 'r') as zip_ref:\n",
    "    zip_ref.extractall(extract_dir)\n",
    "\n",
    "print(f\"Extracted {zip_path} into {extract_dir}/\")"
   ]
  },
  {
   "cell_type": "markdown",
   "id": "b2c85019",
   "metadata": {},
   "source": [
    "### Upload captcha-cracker project zip"
   ]
  },
  {
   "cell_type": "code",
   "execution_count": null,
   "id": "45b32b50",
   "metadata": {},
   "outputs": [],
   "source": [
    "# Extract the uploaded captcha-cracker.zip\n",
    "project_zip_path = \"captcha-cracker.zip\"  # uploaded filename\n",
    "project_dir = \"captcha-cracker\"\n",
    "\n",
    "with zipfile.ZipFile(project_zip_path, 'r') as zip_ref:\n",
    "    zip_ref.extractall(project_dir)\n",
    "\n",
    "print(f\"Extracted {project_zip_path} into {project_dir}/\")\n"
   ]
  },
  {
   "cell_type": "markdown",
   "id": "a71134f9",
   "metadata": {},
   "source": [
    "### Clean up the directory structure"
   ]
  },
  {
   "cell_type": "code",
   "execution_count": null,
   "id": "b44bdbbd",
   "metadata": {},
   "outputs": [],
   "source": [
    "def remove_mac_metadata(path):\n",
    "    mac_folder = os.path.join(path, \"__MACOSX\")\n",
    "    if os.path.exists(mac_folder):\n",
    "        shutil.rmtree(mac_folder)\n",
    "        print(f\" Removed: {mac_folder}\")\n",
    "\n",
    "remove_mac_metadata(\"captcha-cracker\")\n",
    "remove_mac_metadata(\"data\")\n",
    "\n",
    "# Flatten nested captcha-cracker/captcha-cracker\n",
    "nested = \"captcha-cracker/captcha-cracker\"\n",
    "if os.path.exists(nested):\n",
    "    for f in os.listdir(nested):\n",
    "        shutil.move(os.path.join(nested, f), \"captcha-cracker\")\n",
    "    shutil.rmtree(nested)\n",
    "    print(\" Fixed nested captcha-cracker directory.\")\n",
    "\n",
    "# Move data/ into captcha-cracker/data/\n",
    "if os.path.exists(\"data/part2\"):\n",
    "    shutil.move(\"data\", \"captcha-cracker/data\")\n",
    "    print(\" Moved 'data/' into 'captcha-cracker/'\")"
   ]
  },
  {
   "cell_type": "code",
   "execution_count": null,
   "id": "811be9ae",
   "metadata": {},
   "outputs": [],
   "source": [
    "# Change current working directory to the project root\n",
    "%cd captcha-cracker/"
   ]
  },
  {
   "cell_type": "code",
   "execution_count": null,
   "id": "59110c23",
   "metadata": {},
   "outputs": [],
   "source": [
    "!pip install -r requirements.txt"
   ]
  },
  {
   "cell_type": "markdown",
   "id": "3000acf2",
   "metadata": {},
   "source": [
    "### Run traininig with config"
   ]
  },
  {
   "cell_type": "code",
   "execution_count": null,
   "id": "c4fe1ec6",
   "metadata": {},
   "outputs": [],
   "source": [
    "!python main.py --config configs/tuning_M.yaml"
   ]
  },
  {
   "cell_type": "markdown",
   "id": "1b619527",
   "metadata": {},
   "source": [
    "### Download the final output folder"
   ]
  },
  {
   "cell_type": "code",
   "execution_count": null,
   "id": "a59f1f73",
   "metadata": {},
   "outputs": [],
   "source": [
    "output_dir = \"outputs\"\n",
    "shutil.make_archive(\"results\", 'zip', output_dir)\n",
    "\n",
    "# Download the zipped results\n",
    "files.download(\"results.zip\")"
   ]
  }
 ],
 "metadata": {
  "kernelspec": {
   "display_name": ".venv",
   "language": "python",
   "name": "python3"
  },
  "language_info": {
   "name": "python",
   "version": "3.12.8"
  }
 },
 "nbformat": 4,
 "nbformat_minor": 5
}
